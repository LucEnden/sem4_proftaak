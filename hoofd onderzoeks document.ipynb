{
 "cells": [
  {
   "cell_type": "markdown",
   "id": "ad3847f6-e888-492c-88d2-7c22a62581d1",
   "metadata": {},
   "source": [
    "# Yoooooo overwritten test"
   ]
  },
  {
   "cell_type": "code",
   "execution_count": null,
   "id": "02428db2-6494-4d41-92d6-6e997c1d821a",
   "metadata": {},
   "outputs": [],
   "source": [
    "import nltk\n",
    "from nltk.tokenize import word_tokenize, sent_tokenize\n",
    "from transformers import AutoTokenizer\n",
    "from nltk.stem import WordNetLemmatizer\n",
    "from nltk.corpus import stopwords"
   ]
  }
 ],
 "metadata": {
  "kernelspec": {
   "display_name": "Python 3 (ipykernel)",
   "language": "python",
   "name": "python3"
  },
  "language_info": {
   "codemirror_mode": {
    "name": "ipython",
    "version": 3
   },
   "file_extension": ".py",
   "mimetype": "text/x-python",
   "name": "python",
   "nbconvert_exporter": "python",
   "pygments_lexer": "ipython3",
   "version": "3.9.16"
  }
 },
 "nbformat": 4,
 "nbformat_minor": 5
}
