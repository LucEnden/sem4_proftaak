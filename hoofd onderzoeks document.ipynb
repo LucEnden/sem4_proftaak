{
 "cells": [
  {
   "cell_type": "markdown",
   "id": "ad3847f6-e888-492c-88d2-7c22a62581d1",
   "metadata": {},
   "source": [
    "# Yoooooo overwritten test"
   ]
  },
  {
   "cell_type": "code",
   "execution_count": 2,
   "id": "5a1a631c",
   "metadata": {
    "ExecuteTime": {
     "end_time": "2023-05-15T11:11:52.979340Z",
     "start_time": "2023-05-15T11:11:52.964333Z"
    },
    "collapsed": false,
    "jupyter": {
     "outputs_hidden": false
    }
   },
   "outputs": [],
   "source": [
    "Test1 = \"Versie 1\"\n",
    "testtwan = \"test twan overgenomen door luc\""
   ]
  },
  {
   "cell_type": "code",
   "execution_count": 1,
   "id": "bc661dc8",
   "metadata": {
    "collapsed": false,
    "jupyter": {
     "outputs_hidden": false
    }
   },
   "outputs": [],
   "source": [
    "AAAA = \"apokwepokawe\""
   ]
  }
 ],
 "metadata": {
  "kernelspec": {
   "display_name": "Python 3 (ipykernel)",
   "language": "python",
   "name": "python3"
  },
  "language_info": {
   "codemirror_mode": {
    "name": "ipython",
    "version": 3
   },
   "file_extension": ".py",
   "mimetype": "text/x-python",
   "name": "python",
   "nbconvert_exporter": "python",
   "pygments_lexer": "ipython3",
   "version": "3.9.16"
  }
 },
 "nbformat": 4,
 "nbformat_minor": 5
}
