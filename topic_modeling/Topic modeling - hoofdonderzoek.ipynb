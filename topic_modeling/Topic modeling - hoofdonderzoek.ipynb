{
 "cells": [
  {
   "cell_type": "markdown",
   "id": "592c58ba-f00a-44ec-a189-5f94339f0f04",
   "metadata": {},
   "source": [
    "# Intro\n",
    "\n",
    "This document is for executing code and exploring different solutions. No technical details will be explained unless complex enough, it is assumed that anyone reading this document has the required technical knowledge and skill to work with the techniques used."
   ]
  },
  {
   "cell_type": "markdown",
   "id": "ef127db7-a511-4389-b5b1-7b929b61bba5",
   "metadata": {},
   "source": [
    "---\n",
    "Code bellow was used to gather the import statements from preliminary investigation"
   ]
  },
  {
   "cell_type": "code",
   "execution_count": 49,
   "id": "52bb5889-3c00-4bfc-a330-84521921c5cc",
   "metadata": {},
   "outputs": [],
   "source": [
    "import json\n",
    "import re\n",
    "\n",
    "_ = []\n",
    "with open(\"Topic modeling - vooronderzoek.ipynb\", \"r\", encoding=\"utf-8\") as file:\n",
    "    import_pattern = \"|\".join([\n",
    "        r\"from\\s+.+?\\s+import\\s+.+?(?=\\n)\",\n",
    "        r\"import\\s+.+?\\s+as\\s+.+?(?=\\n)\",\n",
    "        r\"import\\s+.+?(?=\\n)\"\n",
    "    ])\n",
    "    content = json.load(file)\n",
    "    for cell in content[\"cells\"]:\n",
    "        if cell[\"cell_type\"] == \"code\":\n",
    "            for line in cell[\"source\"]:\n",
    "                matches = re.findall(import_pattern, line)\n",
    "                if matches:\n",
    "                    [ imports.append(i) for i in matches ]\n",
    "                    \n",
    "# print(\"\\n\".join(imports))"
   ]
  },
  {
   "cell_type": "code",
   "execution_count": 51,
   "id": "1f5cc967-5e7c-4539-a9d5-134a0857af7d",
   "metadata": {},
   "outputs": [],
   "source": [
    "import sys\n",
    "import requests\n",
    "import pandas as pd\n",
    "import numpy as np\n",
    "from matplotlib import pyplot as plt\n",
    "from bs4 import BeautifulSoup\n",
    "import nltk\n",
    "from nltk.tokenize import word_tokenize, sent_tokenize\n",
    "from transformers import AutoTokenizer\n",
    "from nltk.stem import WordNetLemmatizer\n",
    "from nltk.corpus import stopwords\n",
    "import matplotlib.pyplot as plt\n",
    "import numpy as np\n",
    "import seaborn as sns\n",
    "import matplotlib.pyplot as plt\n",
    "import ipywidgets as widgets\n",
    "import umap\n",
    "import seaborn as sns\n",
    "from sklearn.preprocessing import StandardScaler, normalize\n",
    "from bokeh.plotting import figure, show, output_notebook\n",
    "from bokeh.models import HoverTool, ColumnDataSource, CategoricalColorMapper, ContinuousColorMapper, LinearColorMapper, ColorBar, LabelSet, Label\n",
    "from bokeh.palettes import Spectral10\n",
    "from sklearn.feature_extraction.text import CountVectorizer\n",
    "from gensim.test.utils import common_texts\n",
    "from gensim.models import Word2Vec\n",
    "from gensim.models import KeyedVectors\n",
    "import gensim.downloader\n",
    "import string\n",
    "import re\n",
    "import nltk\n",
    "from nltk.tokenize import word_tokenize\n",
    "from nltk.corpus import stopwords\n",
    "from nltk.stem import WordNetLemmatizer\n",
    "from sklearn.feature_extraction.text import TfidfVectorizer\n",
    "from sklearn.cluster import KMeans\n",
    "from yellowbrick.cluster import KElbowVisualizer\n",
    "from sklearn.cluster import KMeans\n",
    "from yellowbrick.cluster import KElbowVisualizer\n",
    "from sklearn.cluster import AgglomerativeClustering\n",
    "from scipy.cluster.hierarchy import dendrogram, linkage\n",
    "import matplotlib.pyplot as plt"
   ]
  },
  {
   "cell_type": "code",
   "execution_count": null,
   "id": "fd826c5c-e9cf-402c-93ae-042232c40668",
   "metadata": {},
   "outputs": [],
   "source": []
  }
 ],
 "metadata": {
  "kernelspec": {
   "display_name": "Python 3 (ipykernel)",
   "language": "python",
   "name": "python3"
  },
  "language_info": {
   "codemirror_mode": {
    "name": "ipython",
    "version": 3
   },
   "file_extension": ".py",
   "mimetype": "text/x-python",
   "name": "python",
   "nbconvert_exporter": "python",
   "pygments_lexer": "ipython3",
   "version": "3.9.16"
  }
 },
 "nbformat": 4,
 "nbformat_minor": 5
}
