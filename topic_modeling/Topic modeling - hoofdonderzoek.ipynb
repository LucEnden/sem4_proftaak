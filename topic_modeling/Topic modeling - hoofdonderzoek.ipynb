{
 "cells": [
  {
   "cell_type": "markdown",
   "id": "592c58ba-f00a-44ec-a189-5f94339f0f04",
   "metadata": {},
   "source": [
    "# Intro\n",
    "\n",
    "This document is for executing code and exploring different solutions. No technical details will be explained unless complex enough, it is assumed that anyone reading this document has the required technical knowledge and skill to work with the techniques used."
   ]
  },
  {
   "cell_type": "code",
   "execution_count": 2,
   "id": "1f5cc967-5e7c-4539-a9d5-134a0857af7d",
   "metadata": {},
   "outputs": [],
   "source": [
    "import pandas as pd\n",
    "import numpy as np"
   ]
  }
 ],
 "metadata": {
  "kernelspec": {
   "display_name": "Python 3 (ipykernel)",
   "language": "python",
   "name": "python3"
  },
  "language_info": {
   "codemirror_mode": {
    "name": "ipython",
    "version": 3
   },
   "file_extension": ".py",
   "mimetype": "text/x-python",
   "name": "python",
   "nbconvert_exporter": "python",
   "pygments_lexer": "ipython3",
   "version": "3.9.16"
  }
 },
 "nbformat": 4,
 "nbformat_minor": 5
}
