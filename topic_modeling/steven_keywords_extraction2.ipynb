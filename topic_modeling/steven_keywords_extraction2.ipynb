{
 "cells": [
  {
   "cell_type": "code",
   "execution_count": 44,
   "metadata": {
    "collapsed": true,
    "ExecuteTime": {
     "start_time": "2023-05-25T14:49:19.397886Z",
     "end_time": "2023-05-25T14:49:19.426257Z"
    }
   },
   "outputs": [],
   "source": [
    "import io\n",
    "import requests\n",
    "import PyPDF2\n",
    "\n",
    "\n",
    "def split_pdf_pages(pdf_data):\n",
    "    pages = []\n",
    "    reader = PyPDF2.PdfFileReader(io.BytesIO(pdf_data))\n",
    "\n",
    "    for page_number in range(reader.getNumPages()):\n",
    "        if reader.getPage(page_number):\n",
    "            pages.append(reader.getPage(page_number))\n",
    "\n",
    "    return pages"
   ]
  },
  {
   "cell_type": "code",
   "execution_count": 45,
   "outputs": [],
   "source": [
    "urls = [\n",
    "    \"https://file.notion.so/f/s/70234c16-e61d-48fc-a26e-a2a573afaee1/Woonzorgvisie_Gemeente_Oisterwijk_2022_-_2027_-_02-05-2022.pdf?id=387149cf-e0c7-4f5f-9b76-250ac04d8e9d&table=block&spaceId=ca274338-dfb2-4f65-823d-2acde6195fea&expirationTimestamp=1685090661894&signature=SZ8bKZJmrGVF9wLYb_eZkI7Ozgmssh7TmBFyTzw1T5E&downloadName=Woonzorgvisie+Gemeente+Oisterwijk+2022+-+2027+-+02-05-2022.pdf\"]"
   ],
   "metadata": {
    "collapsed": false,
    "ExecuteTime": {
     "start_time": "2023-05-25T14:49:19.419258Z",
     "end_time": "2023-05-25T14:49:19.444534Z"
    }
   }
  },
  {
   "cell_type": "code",
   "execution_count": 46,
   "outputs": [],
   "source": [
    "import urllib.parse\n",
    "\n",
    "def extract_title(url):\n",
    "    parsed_url = urllib.parse.urlparse(url)\n",
    "    query_params = urllib.parse.parse_qs(parsed_url.query)\n",
    "    download_name = query_params.get(\"downloadName\", [None])[0]\n",
    "    return download_name"
   ],
   "metadata": {
    "collapsed": false,
    "ExecuteTime": {
     "start_time": "2023-05-25T14:49:19.434471Z",
     "end_time": "2023-05-25T14:49:19.447567Z"
    }
   }
  },
  {
   "cell_type": "code",
   "execution_count": 47,
   "outputs": [],
   "source": [
    "def count_keywords_in_string(string):\n",
    "    keyword_count = 0\n",
    "    for keyword in keywords:\n",
    "        keyword_count += string.lower().count(keyword.lower())\n",
    "    return keyword_count"
   ],
   "metadata": {
    "collapsed": false,
    "ExecuteTime": {
     "start_time": "2023-05-25T14:49:19.448567Z",
     "end_time": "2023-05-25T14:49:19.464642Z"
    }
   }
  },
  {
   "cell_type": "code",
   "execution_count": 48,
   "outputs": [],
   "source": [
    "anton = [\"Zorgspecialist (Z): Goedemiddag, meneer Jansen. Ik ben de zorgspecialist die vandaag met u zal praten over uw zorgbehoeften. Laten we beginnen met uw huisvesting. Hoe bevalt uw huidige woonsituatie? Cliënt (C): Goedemiddag. Dank u wel voor uw tijd. Mijn huidige woonsituatie kan beter. Ik woon in een oud appartementencomplex zonder lift, en dat wordt steeds moeilijker voor mij, gezien mijn mobiliteitsproblemen. Ik overweeg serieus om een traplift te installeren. Z: Ik begrijp uw zorg. Een traplift kan inderdaad een uitstekende oplossing zijn om uw mobiliteit in uw eigen huis te verbeteren. Heeft u al informatie ingewonnen over de installatie van een traplift? C: Ja, ik heb wat onderzoek gedaan en enkele brochures ontvangen. Maar ik heb nog steeds vragen over de kosten, het onderhoud en de installatieprocedure. Kunt u mij daar wat meer over vertellen? Z: Natuurlijk, ik help u graag verder. De kosten van een traplift variëren afhankelijk van het type trap en de specifieke behoeften van de gebruiker. Het is raadzaam om verschillende offertes aan te vragen om een beter idee te krijgen van de prijs. Wat betreft onderhoud, de meeste trapliftfabrikanten bieden onderhoudsservices aan om ervoor te zorgen dat de traplift veilig en goed functioneert. Installatieprocedures verschillen ook per fabrikant, maar over het algemeen zal een team van technici de traplift installeren en uitleg geven over het gebruik ervan. Heeft u nog andere vragen over de traplift? C: Nee, dat klinkt allemaal redelijk duidelijk. Dank u wel voor de uitleg. Nu wilde ik het ook graag hebben over mijn medicatie. Ik merk dat ik soms moeite heb om mijn medicijnen op tijd in te nemen. Heeft u advies over hoe ik dit beter kan organiseren? Z: Zeker, het is belangrijk om uw medicatie op de juiste tijden in te nemen om de effectiviteit ervan te waarborgen. Een handige manier om dit te doen, is door gebruik te maken van medicijndoseersystemen. Deze systemen kunnen uw medicijnen per dag en per innamemoment sorteren, waardoor het gemakkelijker wordt om ze op het juiste tijdstip in te nemen. U kunt ook gebruikmaken van herinneringsapps op uw telefoon of een dagelijks alarmsysteem instellen om u eraan te herinneren uw medicatie in te nemen. Heeft u al overwogen om een van deze methoden te gebruiken? C: Nee, nog niet echt. Maar ik denk dat het gebruik van een medicijndoseersysteem een goede optie voor me zou kunnen zijn. Ik zal dat zeker onderzoeken. Bedankt voor de suggestie. Z: Graag gedaan. Ik denk dat een medicijndoseers\"]"
   ],
   "metadata": {
    "collapsed": false,
    "ExecuteTime": {
     "start_time": "2023-05-25T14:49:19.464642Z",
     "end_time": "2023-05-25T14:49:19.477652Z"
    }
   }
  },
  {
   "cell_type": "code",
   "execution_count": 59,
   "outputs": [
    {
     "data": {
      "text/plain": "[array(['Herinneringsapps', 'raadzaam', 'prijs', 'oud', 'optie',\n        'oplossing', 'onderzoek', 'onderhoudsservice', 'offerte',\n        'natuurlijk', 'moeite', 'moeilijk', 'mobiliteitsproblem',\n        'mobiliteit', 'methode', 'zorgspecialissen', 'redelijk', 'serieus',\n        'sort', 'specifiek', 'zorgbehoeft', 'zorg', 'vraag',\n        'verschillend', 'ver', 'veilig', 'uitstekend',\n        'medicijndoseersysteem', 'type', 'trap', 'tijdstip', 'telefoon',\n        'technicus', 'team', 'systeem', 'suggestie', 'trapliftfabrikant',\n        'medicijndoseer', 'meneer', 'effectiviteit', 'echt', 'duidelijk',\n        'dagelijks', 'dag', 'cliënt', 'brochure', 'fabrikant',\n        'belangrijk', 'appartementencomplex', 'algemeen', 'alarmsysteem',\n        'afhankelijk', 'advies', 'Jansen', 'behoefte', 'gebruiker',\n        'zorgspecialist', 'huisvesting', 'manier', 'installatieprocedure',\n        'installatie', 'handig', 'innamemoment', 'huis', 'lift',\n        'installatieprocedures', 'idee', 'informatie', 'gemakkelijk',\n        'uitleg', 'onderhoud', 'danken', 'huidig', 'medicijn',\n        'goedemiddag', 'woonsituatie', 'kost', 'medicatie', 'tijd',\n        'gebruik', 'goed', 'traplift'], dtype=object)]"
     },
     "execution_count": 59,
     "metadata": {},
     "output_type": "execute_result"
    }
   ],
   "source": [
    "import spacy\n",
    "from sklearn.feature_extraction.text import TfidfVectorizer\n",
    "import string\n",
    "\n",
    "nlp = spacy.load(\"nl_core_news_sm\")\n",
    "punctuations = string.punctuation\n",
    "\n",
    "def extract_keywords(texts):\n",
    "    def tokenize_text(text):\n",
    "        tokens = nlp(str(text))\n",
    "        keywords = []\n",
    "\n",
    "        for token in tokens:\n",
    "            if token.is_punct or token.is_currency:\n",
    "                continue\n",
    "            elif token.pos_ in [\"NOUN\", \"PROPN\", \"ADJ\"]:\n",
    "                keywords.append(token.lemma_)\n",
    "        return keywords\n",
    "\n",
    "\n",
    "    def preprocess_text(text):\n",
    "        if isinstance(text, tuple):\n",
    "            text = ' '.join(str(t) for t in text)\n",
    "        return text.lower()\n",
    "        vectorizer = TfidfVectorizer(stop_words=nlp.Defaults.stop_words, tokenizer=tokenize_text, preprocessor=preprocess_text)\n",
    "        tfidf_matrix = vectorizer.fit_transform(anton)\n",
    "        feature_names = vectorizer.get_feature_names_out()\n",
    "\n",
    "        # Step 4: Determine the most important keywords from the TF-IDF analysis\n",
    "        num_keywords = 1  # Adjust the number of keywords you want to extract\n",
    "        useful_keywords = []\n",
    "        tfidf_scores = tfidf_matrix.toarray()\n",
    "        top_indices = tfidf_scores.argsort()[-num_keywords:][::-1]\n",
    "        top_keywords = [feature_names[idx] for idx in top_indices]\n",
    "        useful_keywords.extend(top_keywords)\n",
    "\n",
    "        keywords = useful_keywords"
   ],
   "metadata": {
    "collapsed": false,
    "ExecuteTime": {
     "start_time": "2023-05-25T14:54:59.036168Z",
     "end_time": "2023-05-25T14:55:01.150182Z"
    }
   }
  },
  {
   "cell_type": "code",
   "execution_count": 50,
   "outputs": [
    {
     "ename": "TypeError",
     "evalue": "'in <string>' requires string as left operand, not numpy.ndarray",
     "output_type": "error",
     "traceback": [
      "\u001B[1;31m---------------------------------------------------------------------------\u001B[0m",
      "\u001B[1;31mTypeError\u001B[0m                                 Traceback (most recent call last)",
      "\u001B[1;32m~\\AppData\\Local\\Temp\\ipykernel_25100\\3728961896.py\u001B[0m in \u001B[0;36m<module>\u001B[1;34m\u001B[0m\n\u001B[0;32m     63\u001B[0m \u001B[1;33m\u001B[0m\u001B[0m\n\u001B[0;32m     64\u001B[0m \u001B[1;31m# Apply the pipeline to the URLs\u001B[0m\u001B[1;33m\u001B[0m\u001B[1;33m\u001B[0m\u001B[0m\n\u001B[1;32m---> 65\u001B[1;33m \u001B[0mfiltered_pages2\u001B[0m \u001B[1;33m=\u001B[0m \u001B[0mpipeline\u001B[0m\u001B[1;33m.\u001B[0m\u001B[0mtransform\u001B[0m\u001B[1;33m(\u001B[0m\u001B[0murls\u001B[0m\u001B[1;33m)\u001B[0m\u001B[1;33m\u001B[0m\u001B[1;33m\u001B[0m\u001B[0m\n\u001B[0m\u001B[0;32m     66\u001B[0m \u001B[1;33m\u001B[0m\u001B[0m\n\u001B[0;32m     67\u001B[0m \u001B[1;31m#Print the filtered pages\u001B[0m\u001B[1;33m\u001B[0m\u001B[1;33m\u001B[0m\u001B[0m\n",
      "\u001B[1;32m~\\anaconda3\\lib\\site-packages\\sklearn\\utils\\metaestimators.py\u001B[0m in \u001B[0;36m<lambda>\u001B[1;34m(*args, **kwargs)\u001B[0m\n\u001B[0;32m    111\u001B[0m \u001B[1;33m\u001B[0m\u001B[0m\n\u001B[0;32m    112\u001B[0m             \u001B[1;31m# lambda, but not partial, allows help() to work with update_wrapper\u001B[0m\u001B[1;33m\u001B[0m\u001B[1;33m\u001B[0m\u001B[0m\n\u001B[1;32m--> 113\u001B[1;33m             \u001B[0mout\u001B[0m \u001B[1;33m=\u001B[0m \u001B[1;32mlambda\u001B[0m \u001B[1;33m*\u001B[0m\u001B[0margs\u001B[0m\u001B[1;33m,\u001B[0m \u001B[1;33m**\u001B[0m\u001B[0mkwargs\u001B[0m\u001B[1;33m:\u001B[0m \u001B[0mself\u001B[0m\u001B[1;33m.\u001B[0m\u001B[0mfn\u001B[0m\u001B[1;33m(\u001B[0m\u001B[0mobj\u001B[0m\u001B[1;33m,\u001B[0m \u001B[1;33m*\u001B[0m\u001B[0margs\u001B[0m\u001B[1;33m,\u001B[0m \u001B[1;33m**\u001B[0m\u001B[0mkwargs\u001B[0m\u001B[1;33m)\u001B[0m  \u001B[1;31m# noqa\u001B[0m\u001B[1;33m\u001B[0m\u001B[1;33m\u001B[0m\u001B[0m\n\u001B[0m\u001B[0;32m    114\u001B[0m         \u001B[1;32melse\u001B[0m\u001B[1;33m:\u001B[0m\u001B[1;33m\u001B[0m\u001B[1;33m\u001B[0m\u001B[0m\n\u001B[0;32m    115\u001B[0m \u001B[1;33m\u001B[0m\u001B[0m\n",
      "\u001B[1;32m~\\anaconda3\\lib\\site-packages\\sklearn\\pipeline.py\u001B[0m in \u001B[0;36mtransform\u001B[1;34m(self, X)\u001B[0m\n\u001B[0;32m    645\u001B[0m         \u001B[0mXt\u001B[0m \u001B[1;33m=\u001B[0m \u001B[0mX\u001B[0m\u001B[1;33m\u001B[0m\u001B[1;33m\u001B[0m\u001B[0m\n\u001B[0;32m    646\u001B[0m         \u001B[1;32mfor\u001B[0m \u001B[0m_\u001B[0m\u001B[1;33m,\u001B[0m \u001B[0m_\u001B[0m\u001B[1;33m,\u001B[0m \u001B[0mtransform\u001B[0m \u001B[1;32min\u001B[0m \u001B[0mself\u001B[0m\u001B[1;33m.\u001B[0m\u001B[0m_iter\u001B[0m\u001B[1;33m(\u001B[0m\u001B[1;33m)\u001B[0m\u001B[1;33m:\u001B[0m\u001B[1;33m\u001B[0m\u001B[1;33m\u001B[0m\u001B[0m\n\u001B[1;32m--> 647\u001B[1;33m             \u001B[0mXt\u001B[0m \u001B[1;33m=\u001B[0m \u001B[0mtransform\u001B[0m\u001B[1;33m.\u001B[0m\u001B[0mtransform\u001B[0m\u001B[1;33m(\u001B[0m\u001B[0mXt\u001B[0m\u001B[1;33m)\u001B[0m\u001B[1;33m\u001B[0m\u001B[1;33m\u001B[0m\u001B[0m\n\u001B[0m\u001B[0;32m    648\u001B[0m         \u001B[1;32mreturn\u001B[0m \u001B[0mXt\u001B[0m\u001B[1;33m\u001B[0m\u001B[1;33m\u001B[0m\u001B[0m\n\u001B[0;32m    649\u001B[0m \u001B[1;33m\u001B[0m\u001B[0m\n",
      "\u001B[1;32m~\\AppData\\Local\\Temp\\ipykernel_25100\\3728961896.py\u001B[0m in \u001B[0;36mtransform\u001B[1;34m(self, X)\u001B[0m\n\u001B[0;32m     39\u001B[0m                 \u001B[0mprint\u001B[0m\u001B[1;33m(\u001B[0m\u001B[1;34mf\"BLANK {page_number}\"\u001B[0m\u001B[1;33m)\u001B[0m\u001B[1;33m\u001B[0m\u001B[1;33m\u001B[0m\u001B[0m\n\u001B[0;32m     40\u001B[0m                 \u001B[1;32mcontinue\u001B[0m\u001B[1;33m\u001B[0m\u001B[1;33m\u001B[0m\u001B[0m\n\u001B[1;32m---> 41\u001B[1;33m             \u001B[1;32mif\u001B[0m \u001B[1;32mnot\u001B[0m \u001B[0many\u001B[0m\u001B[1;33m(\u001B[0m\u001B[0mkeyword\u001B[0m \u001B[1;32min\u001B[0m \u001B[0mcontents\u001B[0m \u001B[1;32mfor\u001B[0m \u001B[0mkeyword\u001B[0m \u001B[1;32min\u001B[0m \u001B[0mself\u001B[0m\u001B[1;33m.\u001B[0m\u001B[0mkeywords\u001B[0m\u001B[1;33m)\u001B[0m\u001B[1;33m:\u001B[0m\u001B[1;33m\u001B[0m\u001B[1;33m\u001B[0m\u001B[0m\n\u001B[0m\u001B[0;32m     42\u001B[0m                 \u001B[0mprint\u001B[0m\u001B[1;33m(\u001B[0m\u001B[1;34mf\"Not any keywords found {page_number}\"\u001B[0m\u001B[1;33m)\u001B[0m\u001B[1;33m\u001B[0m\u001B[1;33m\u001B[0m\u001B[0m\n\u001B[0;32m     43\u001B[0m                 \u001B[1;32mcontinue\u001B[0m\u001B[1;33m\u001B[0m\u001B[1;33m\u001B[0m\u001B[0m\n",
      "\u001B[1;32m~\\AppData\\Local\\Temp\\ipykernel_25100\\3728961896.py\u001B[0m in \u001B[0;36m<genexpr>\u001B[1;34m(.0)\u001B[0m\n\u001B[0;32m     39\u001B[0m                 \u001B[0mprint\u001B[0m\u001B[1;33m(\u001B[0m\u001B[1;34mf\"BLANK {page_number}\"\u001B[0m\u001B[1;33m)\u001B[0m\u001B[1;33m\u001B[0m\u001B[1;33m\u001B[0m\u001B[0m\n\u001B[0;32m     40\u001B[0m                 \u001B[1;32mcontinue\u001B[0m\u001B[1;33m\u001B[0m\u001B[1;33m\u001B[0m\u001B[0m\n\u001B[1;32m---> 41\u001B[1;33m             \u001B[1;32mif\u001B[0m \u001B[1;32mnot\u001B[0m \u001B[0many\u001B[0m\u001B[1;33m(\u001B[0m\u001B[0mkeyword\u001B[0m \u001B[1;32min\u001B[0m \u001B[0mcontents\u001B[0m \u001B[1;32mfor\u001B[0m \u001B[0mkeyword\u001B[0m \u001B[1;32min\u001B[0m \u001B[0mself\u001B[0m\u001B[1;33m.\u001B[0m\u001B[0mkeywords\u001B[0m\u001B[1;33m)\u001B[0m\u001B[1;33m:\u001B[0m\u001B[1;33m\u001B[0m\u001B[1;33m\u001B[0m\u001B[0m\n\u001B[0m\u001B[0;32m     42\u001B[0m                 \u001B[0mprint\u001B[0m\u001B[1;33m(\u001B[0m\u001B[1;34mf\"Not any keywords found {page_number}\"\u001B[0m\u001B[1;33m)\u001B[0m\u001B[1;33m\u001B[0m\u001B[1;33m\u001B[0m\u001B[0m\n\u001B[0;32m     43\u001B[0m                 \u001B[1;32mcontinue\u001B[0m\u001B[1;33m\u001B[0m\u001B[1;33m\u001B[0m\u001B[0m\n",
      "\u001B[1;31mTypeError\u001B[0m: 'in <string>' requires string as left operand, not numpy.ndarray"
     ]
    }
   ],
   "source": [
    "import requests\n",
    "from io import BytesIO\n",
    "from PyPDF2 import PdfFileReader\n",
    "from sklearn.base import BaseEstimator, TransformerMixin\n",
    "from sklearn.pipeline import Pipeline\n",
    "\n",
    "\n",
    "class PDFPageExtractor(BaseEstimator, TransformerMixin):\n",
    "    def fit(self, X, y=None):\n",
    "        return self\n",
    "\n",
    "    def transform(self, X):\n",
    "        extracted_pages = []\n",
    "        for url in X:\n",
    "            response = requests.get(url)\n",
    "            pdf_data = response.content\n",
    "            pdf_pages = self.split_pdf_pages(pdf_data)\n",
    "            extracted_pages.extend(pdf_pages)\n",
    "        return extracted_pages\n",
    "\n",
    "    def split_pdf_pages(self, pdf_data):\n",
    "        pdf = PdfFileReader(BytesIO(pdf_data))\n",
    "        return [pdf.getPage(i) for i in range(pdf.getNumPages())]\n",
    "\n",
    "\n",
    "class PageContentFilter(BaseEstimator, TransformerMixin):\n",
    "    def __init__(self, keywords, max_keyword_count=20):\n",
    "        self.keywords = keywords\n",
    "        self.max_keyword_count = max_keyword_count\n",
    "\n",
    "    def fit(self, X, y=None):\n",
    "        return self\n",
    "\n",
    "    def transform(self, X):\n",
    "        filtered_pages = []\n",
    "        for page_number, page in enumerate(X):\n",
    "            contents = page.extract_text()\n",
    "            if contents == \"\" or contents == \" \":\n",
    "                print(f\"BLANK {page_number}\")\n",
    "                continue\n",
    "            if not any(keyword in contents for keyword in self.keywords):\n",
    "                print(f\"Not any keywords found {page_number}\")\n",
    "                continue\n",
    "            if self.count_keywords_in_string(contents) <= self.max_keyword_count:\n",
    "                print(f\"Not enough keywords found {page_number}\")\n",
    "                continue\n",
    "            filtered_pages.append((page_number, contents))\n",
    "        return filtered_pages\n",
    "\n",
    "    def count_keywords_in_string(self, text):\n",
    "        count = 0\n",
    "        for keyword in self.keywords:\n",
    "            count += text.lower().count(keyword.lower())\n",
    "        return count\n",
    "\n",
    "\n",
    "# Create the pipeline\n",
    "pipeline = Pipeline([\n",
    "    ('pdf_extractor', PDFPageExtractor()),\n",
    "    ('page_filter', PageContentFilter(keywords))\n",
    "\n",
    "])\n",
    "\n",
    "# Apply the pipeline to the URLs\n",
    "filtered_pages2 = pipeline.transform(urls)\n",
    "\n",
    "#Print the filtered pages\n",
    "# for page_number, contents in filtered_pages2:\n",
    "#     print(\"Page number:\", page_number)"
   ],
   "metadata": {
    "collapsed": false,
    "ExecuteTime": {
     "start_time": "2023-05-25T14:25:21.861181Z",
     "end_time": "2023-05-25T14:25:27.056931Z"
    }
   }
  },
  {
   "cell_type": "code",
   "execution_count": null,
   "outputs": [],
   "source": [],
   "metadata": {
    "collapsed": false
   }
  }
 ],
 "metadata": {
  "kernelspec": {
   "display_name": "Python 3",
   "language": "python",
   "name": "python3"
  },
  "language_info": {
   "codemirror_mode": {
    "name": "ipython",
    "version": 2
   },
   "file_extension": ".py",
   "mimetype": "text/x-python",
   "name": "python",
   "nbconvert_exporter": "python",
   "pygments_lexer": "ipython2",
   "version": "2.7.6"
  }
 },
 "nbformat": 4,
 "nbformat_minor": 0
}
