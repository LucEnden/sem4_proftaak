{
 "cells": [
  {
   "cell_type": "markdown",
   "source": [],
   "metadata": {
    "collapsed": false
   }
  },
  {
   "cell_type": "code",
   "execution_count": 8,
   "outputs": [],
   "source": [
    "from bokeh.models import HoverTool, ColumnDataSource, CategoricalColorMapper, ContinuousColorMapper, LinearColorMapper, ColorBar, LabelSet, Label\n",
    "from bokeh.palettes import Spectral10\n",
    "from bokeh.plotting import figure, show, output_notebook\n",
    "from bs4 import BeautifulSoup\n",
    "from gensim.models import KeyedVectors\n",
    "from gensim.models import Word2Vec\n",
    "from gensim.test.utils import common_texts\n",
    "from matplotlib import pyplot as plt\n",
    "from nltk.corpus import stopwords\n",
    "from nltk.stem import WordNetLemmatizer\n",
    "from nltk.tokenize import word_tokenize\n",
    "from nltk.tokenize import word_tokenize, sent_tokenize\n",
    "from scipy.cluster.hierarchy import dendrogram, linkage\n",
    "from sklearn.cluster import AgglomerativeClustering\n",
    "from sklearn.cluster import KMeans\n",
    "from sklearn.feature_extraction.text import CountVectorizer\n",
    "from sklearn.feature_extraction.text import TfidfVectorizer\n",
    "from sklearn.preprocessing import StandardScaler, normalize\n",
    "from transformers import AutoTokenizer\n",
    "import gensim.downloader\n",
    "import ipywidgets as widgets\n",
    "import matplotlib.pyplot as plt\n",
    "import nltk\n",
    "import numpy as np\n",
    "import pandas as pd\n",
    "import re\n",
    "import requests\n",
    "import seaborn as sns\n",
    "import string\n",
    "import sys"
   ],
   "metadata": {
    "collapsed": false,
    "ExecuteTime": {
     "end_time": "2023-06-06T07:38:51.913898900Z",
     "start_time": "2023-06-06T07:38:51.834884900Z"
    }
   }
  },
  {
   "cell_type": "code",
   "execution_count": 9,
   "outputs": [],
   "source": [
    "from nltk.corpus import stopwords\n",
    "import spacy\n",
    "\n",
    "stopwoorden = set(stopwords.words('dutch'))\n",
    "\n",
    "def normalize_numbers(tekst):\n",
    "    \"\"\"\n",
    "    Normaliseert getallen in de tekst, zoals telefoonnummers, postcodes en huisnummers.\n",
    "    \"\"\"\n",
    "    tekst = re.sub(r'(\\+31|0)[-\\s]*(6-?[\\d\\s-]{8}|7[\\d\\s-]{8}|1[\\d\\s-]{8})', '***', tekst)\n",
    "    tekst = re.sub(r'\\b\\d{4}\\s*[a-zA-Z]{2}\\b', '***', tekst)\n",
    "    tekst = re.sub(r'\\b\\d+(?:\\s*[a-zA-Z])?\\b', '***', tekst)\n",
    "    return tekst\n",
    "\n",
    "def converteer_naar_kleine_letters(tekst):\n",
    "    \"\"\"\n",
    "    Converteert de tekst naar kleine letters.\n",
    "    \"\"\"\n",
    "    return tekst.lower()\n",
    "\n",
    "def verwijder_niet_alfanumeriek(tekst):\n",
    "    \"\"\"\n",
    "    Verwijdert niet-alfanumerieke tekens uit de tekst.\n",
    "    \"\"\"\n",
    "    gefilterde_tekst = re.sub(r'[^\\w\\s]', '', tekst)\n",
    "    return gefilterde_tekst\n",
    "\n",
    "def verwijder_witruimte(tekst):\n",
    "    \"\"\"\n",
    "    Verwijdert witruimte aan het begin en einde van de tekst.\n",
    "    \"\"\"\n",
    "    return tekst.strip()\n",
    "\n",
    "def verwijder_stopwoorden(woorden):\n",
    "    \"\"\"\n",
    "    Verwijdert stopwoorden uit de lijst van woorden.\n",
    "    \"\"\"\n",
    "    gefilterde_woorden = [woord for woord in woorden if woord.lower() not in stopwoorden]\n",
    "    return gefilterde_woorden\n",
    "\n",
    "def tokenize_zin_en_woorden(tekst):\n",
    "    \"\"\"\n",
    "    Splitst de tekst op in zinnen en woorden.\n",
    "    \"\"\"\n",
    "    zinnen = sent_tokenize(tekst)\n",
    "    woorden = word_tokenize(tekst)\n",
    "    return zinnen, woorden\n",
    "\n",
    "def lemmatize_tekst(tekst):\n",
    "    \"\"\"\n",
    "    Lemmatiseert de tekst door de woorden terug te brengen naar hun basisvorm.\n",
    "    \"\"\"\n",
    "    doc = nlp(tekst)\n",
    "    lemmatized_tokens = [token.lemma_ for token in doc]\n",
    "    lemmatized_text = \" \".join(lemmatized_tokens)\n",
    "    return lemmatized_text"
   ],
   "metadata": {
    "collapsed": false,
    "ExecuteTime": {
     "end_time": "2023-06-06T07:38:51.914899100Z",
     "start_time": "2023-06-06T07:38:51.855888500Z"
    }
   }
  },
  {
   "cell_type": "markdown",
   "source": [
    "## Keyword filtering op fictief interview zorgspecialisten\n",
    "\n",
    "Om te beginnen testen we op test document. We hebben de volgende vraag aan Chat-GPT gesteld om aan dit document te komen:\n",
    "\n",
    "> Kun je voor mij een interview transcriptie genereren met daarin de volgende onderwerpen:\n",
    "> - medicijnen\n",
    "> - boodschappen\n",
    "> - dementie\n",
    "> - huisarts\n",
    "> - mantelzorger\n",
    "\n",
    "### Hypothese\n",
    "Alle onderwerpen die aan Chat-GPT zijn gevraagd om in de tekst te verwerken, komen terug in de uitkomst van de keyword extrapolatie.\n",
    "\n",
    "### Aanpak testen van hypothese\n",
    "We defineren een methode welke 2 parameters heeft, namelijk:\n",
    "- `text`, een lijst van strings waarop de keyword extrapolatie methode op wordt toegepast\n",
    "- `keywords_per_phrase`, een heel getal waarop gebaseerd word hoeveel keywords er per item uit de gegeven `text` gehaald moeten worden\n",
    "\n",
    "De uitkomst van deze functie is een lijst met steek worden uit de gegeven `text`.\n",
    "\n",
    "We vergelijken de uitkomst met de lijst van onderwerpen gevraagd aan Chat-GPT om deze te verwerken in het test document."
   ],
   "metadata": {
    "collapsed": false
   }
  },
  {
   "cell_type": "code",
   "execution_count": 10,
   "outputs": [],
   "source": [
    "test_doc = \"\"\"\n",
    "Interviewer: Goedemiddag, vandaag praten we over een aantal belangrijke onderwerpen met betrekking tot gezondheidszorg en de rol van mantelzorgers. Laten we beginnen met medicijnen. Welke rol spelen medicijnen in de behandeling van bepaalde aandoeningen?\n",
    "\n",
    "Expert: Bedankt voor de vraag. Medicijnen spelen een cruciale rol bij de behandeling van diverse aandoeningen. Ze kunnen worden gebruikt om symptomen te verlichten, ziekten te beheersen en zelfs levens te redden. Geneesmiddelen worden voorgeschreven door artsen en apothekers op basis van de diagnose van de patiënt.\n",
    "\n",
    "Interviewer: Begrijpelijk. Nu willen we graag het onderwerp boodschappen aansnijden. Hoe kunnen mantelzorgers helpen bij het doen van boodschappen voor hun zorgbehoevende familielid?\n",
    "\n",
    "Expert: Mantelzorgers kunnen een belangrijke rol spelen bij het doen van boodschappen voor hun zorgbehoevende familielid. Ze kunnen helpen bij het opstellen van een boodschappenlijstje, winkelen voor de benodigde items en zelfs zorgen voor het bezorgen van de boodschappen aan huis. Dit verlicht de last voor de persoon die verzorgd wordt en zorgt ervoor dat essentiële benodigdheden gemakkelijk beschikbaar zijn.\n",
    "\n",
    "Interviewer: Interessant. Laten we nu overgaan naar het onderwerp dementie. Hoe kan een mantelzorger omgaan met de uitdagingen die dementie met zich meebrengt?\n",
    "\n",
    "Expert: Dementie kan inderdaad uitdagend zijn voor zowel de persoon met dementie als voor de mantelzorger. Het is belangrijk voor mantelzorgers om geduldig en begripvol te zijn. Ze kunnen leren over dementie, ondersteuning zoeken bij professionele zorgverleners en deelnemen aan ondersteuningsgroepen. Het bieden van een gestructureerde en veilige omgeving, het stimuleren van cognitieve activiteiten en het handhaven van een goede communicatie kunnen ook helpen bij het omgaan met de uitdagingen van dementie.\n",
    "\n",
    "Interviewer: Bedankt voor de waardevolle informatie. Tot slot, laten we het hebben over de rol van de huisarts. Wat is de rol van de huisarts bij de zorg voor mensen met langdurige gezondheidsproblemen?\n",
    "\n",
    "Expert: De huisarts speelt een essentiële rol bij de zorg voor mensen met langdurige gezondheidsproblemen. Ze zijn vaak het eerste aanspreekpunt voor de patiënt en coördineren de zorg voor de patiënt. De huisarts kan de gezondheidstoestand beoordelen, diagnoses stellen, behandelingen voorschrijven en doorverwijzen naar specialisten indien nodig. Ze kunnen ook een vertrouwensband opbouwen met de patiënt en de mantelzorger, en hen ondersteunen bij het omgaan met de uitdagingen van de zorg.\n",
    "\n",
    "Interviewer: Heel erg bedankt voor uw tijd en expertise. We hebben waardevolle inzichten gekregen over medicijnen, boodschappen, dementie, de rol van de huisarts en mantelzorgers.\n",
    "\n",
    "Expert: Graag gedaan. Het was een genoegen om hierover te praten. Ik hoop dat deze informatie nuttig zal zijn voor degenen die betrokken zijn bij de zorg voor hun dierbaren.\n",
    "\"\"\""
   ],
   "metadata": {
    "collapsed": false,
    "ExecuteTime": {
     "end_time": "2023-06-06T07:38:51.915898400Z",
     "start_time": "2023-06-06T07:38:51.870890700Z"
    }
   }
  },
  {
   "cell_type": "code",
   "execution_count": 11,
   "outputs": [],
   "source": [
    "import spacy\n",
    "from sklearn.feature_extraction.text import TfidfVectorizer\n",
    "import string\n",
    "\n",
    "nlp = spacy.load(\"nl_core_news_lg\")\n",
    "punctuations = string.punctuation\n",
    "\n",
    "def keyword_filter_tokenize(text):\n",
    "    tokens = nlp(str(text))\n",
    "    keywords = []\n",
    "\n",
    "    for token in tokens:\n",
    "        if token.is_punct or token.is_currency:\n",
    "            continue\n",
    "        elif token.pos_ in [\"NOUN\", \"PROPN\", \"ADJ\"]:\n",
    "            keywords.append(token.lemma_)\n",
    "    return keywords\n",
    "\n",
    "\n",
    "def keyword_filter_preprocessing(text):\n",
    "    if isinstance(text, tuple):\n",
    "        text = ' '.join(str(t) for t in text)\n",
    "\n",
    "    text = converteer_naar_kleine_letters(text)\n",
    "    text = normalize_numbers(text)\n",
    "    text = verwijder_niet_alfanumeriek(text)\n",
    "    text = verwijder_witruimte(text)\n",
    "    text = lemmatize_tekst(text)\n",
    "    return text"
   ],
   "metadata": {
    "collapsed": false,
    "ExecuteTime": {
     "end_time": "2023-06-06T07:38:55.666443Z",
     "start_time": "2023-06-06T07:38:51.890897900Z"
    }
   }
  },
  {
   "cell_type": "code",
   "execution_count": 12,
   "outputs": [],
   "source": [
    "def get_keywords(text, keywords_per_phrase = 1):\n",
    "    keyword_vectorizer = TfidfVectorizer(tokenizer=keyword_filter_tokenize, preprocessor=keyword_filter_preprocessing)\n",
    "    keyword_matrix = keyword_vectorizer.fit_transform(text)\n",
    "    keyword_feature_names = keyword_vectorizer.get_feature_names_out()\n",
    "\n",
    "    useful_keywords = []\n",
    "    for i, document in enumerate(keyword_matrix):\n",
    "        tfidf_scores = keyword_matrix[i].toarray()[0]\n",
    "        top_indices = tfidf_scores.argsort()[-keywords_per_phrase:][::-1]\n",
    "        top_keywords = [keyword_feature_names[idx] for idx in top_indices]\n",
    "        useful_keywords.extend(top_keywords)\n",
    "\n",
    "    useful_keywords = list(set(useful_keywords))  # Remove duplicate keywords\n",
    "    return useful_keywords"
   ],
   "metadata": {
    "collapsed": false,
    "ExecuteTime": {
     "end_time": "2023-06-06T07:38:55.683442900Z",
     "start_time": "2023-06-06T07:38:55.673447300Z"
    }
   }
  },
  {
   "cell_type": "code",
   "execution_count": 13,
   "outputs": [
    {
     "data": {
      "text/plain": "['nuttig',\n 'huisarts',\n 'patiënt',\n 'dementie',\n 'zorgbehoevend',\n 'erg',\n 'medicijn',\n 'boodschap',\n 'cruciaal',\n 'zorgverlener']"
     },
     "execution_count": 13,
     "metadata": {},
     "output_type": "execute_result"
    }
   ],
   "source": [
    "get_keywords(test_doc.split(\"\\n\"), keywords_per_phrase = 1)"
   ],
   "metadata": {
    "collapsed": false,
    "ExecuteTime": {
     "end_time": "2023-06-06T07:38:56.047509400Z",
     "start_time": "2023-06-06T07:38:55.688443100Z"
    }
   }
  }
 ],
 "metadata": {
  "kernelspec": {
   "display_name": "Python 3",
   "language": "python",
   "name": "python3"
  },
  "language_info": {
   "codemirror_mode": {
    "name": "ipython",
    "version": 2
   },
   "file_extension": ".py",
   "mimetype": "text/x-python",
   "name": "python",
   "nbconvert_exporter": "python",
   "pygments_lexer": "ipython2",
   "version": "2.7.6"
  }
 },
 "nbformat": 4,
 "nbformat_minor": 0
}
