{
 "cells": [
  {
   "cell_type": "code",
   "execution_count": 3,
   "metadata": {
    "collapsed": true,
    "ExecuteTime": {
     "start_time": "2023-05-16T14:57:33.008058Z",
     "end_time": "2023-05-16T14:57:33.026060Z"
    }
   },
   "outputs": [],
   "source": [
    "import io\n",
    "import requests\n",
    "import PyPDF2\n",
    "\n",
    "def split_pdf_pages(pdf_data):\n",
    "    pages = []\n",
    "    reader = PyPDF2.PdfFileReader(io.BytesIO(pdf_data))\n",
    "\n",
    "    for page_number in range(reader.getNumPages()):\n",
    "        pages.append(reader.getPage(page_number))\n",
    "\n",
    "    return pages"
   ]
  },
  {
   "cell_type": "code",
   "execution_count": 4,
   "outputs": [],
   "source": [
    "urls = [\"https://file.notion.so/f/s/49da8fb5-000b-47bf-9788-1dcbdfdf80f6/Omgevingsvisie_Breda_2040_Sterk_en_Veerkrachtig_-_01-07-2021.pdf?id=3be70ed6-2a1a-460a-b326-f0031a4c4d81&table=block&spaceId=ca274338-dfb2-4f65-823d-2acde6195fea&expirationTimestamp=1684312025948&signature=7j13LI3pQfJCwASUOlCiPF8JzLPy6zZmMUcQjkV3xIA&downloadName=Omgevingsvisie+Breda+2040+Sterk+en+Veerkrachtig+-+01-07-2021.pdf\"]"
   ],
   "metadata": {
    "collapsed": false,
    "ExecuteTime": {
     "start_time": "2023-05-16T14:57:33.025065Z",
     "end_time": "2023-05-16T14:57:33.044111Z"
    }
   }
  },
  {
   "cell_type": "code",
   "execution_count": null,
   "outputs": [],
   "source": [
    "for url in urls:\n",
    "    response = requests.get(url)\n",
    "    pdf_data = response.content\n",
    "    pdf_pages = split_pdf_pages(pdf_data)\n",
    "    for page_number, page in enumerate(pdf_pages):\n",
    "        print(\"------------------------------------------------------------------\")\n",
    "        print(f\"Page {page_number + 1} content:\\n{page.extract_text()}\")"
   ],
   "metadata": {
    "collapsed": false,
    "ExecuteTime": {
     "start_time": "2023-05-16T14:57:59.087700Z",
     "end_time": "2023-05-16T14:58:03.512115Z"
    },
    "pycharm": {
     "is_executing": true
    }
   }
  },
  {
   "cell_type": "code",
   "execution_count": null,
   "outputs": [],
   "source": [],
   "metadata": {
    "collapsed": false
   }
  }
 ],
 "metadata": {
  "kernelspec": {
   "display_name": "Python 3",
   "language": "python",
   "name": "python3"
  },
  "language_info": {
   "codemirror_mode": {
    "name": "ipython",
    "version": 2
   },
   "file_extension": ".py",
   "mimetype": "text/x-python",
   "name": "python",
   "nbconvert_exporter": "python",
   "pygments_lexer": "ipython2",
   "version": "2.7.6"
  }
 },
 "nbformat": 4,
 "nbformat_minor": 0
}
